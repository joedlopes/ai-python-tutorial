{
  "nbformat": 4,
  "nbformat_minor": 0,
  "metadata": {
    "colab": {
      "provenance": []
    },
    "kernelspec": {
      "name": "python3",
      "display_name": "Python 3"
    },
    "language_info": {
      "name": "python"
    }
  },
  "cells": [
    {
      "cell_type": "markdown",
      "source": [
        "**Introduction to Programming and Python**\n",
        "\n",
        "1. What is a variable?\n",
        "\n",
        "2. What are the data types of variables in python?\n",
        "\n",
        "3. What is a function?\n",
        "\n",
        "4. Control Structures\n",
        "\n",
        "  4.1. Control Structure **if**\n",
        "\n",
        "  4.2. Control Structure **elif**\n",
        "\n",
        "  4.3. Control Structure **else**\n",
        "\n",
        "  4.4. Loops **for**\n",
        "\n",
        "  4.5. Loops **while**\n",
        "\n",
        "  4.6. Loops **break**\n",
        "\n",
        "  4.7. Loops **continue**\n",
        "\n",
        "5. Data Structures\n",
        "\n",
        "  5.1. Lists\n",
        "\n",
        "  5.2. Tuples\n",
        "\n",
        "  5.3. Dictionaries\n",
        "\n",
        "  5.4. Sets\n",
        "\n",
        "6. What is a **package** and how to **import** it?\n",
        "\n",
        "7. Loading a **Text File**\n",
        "\n",
        "8. How to load and display an **Image File**\n",
        "\n",
        "9. How to load a **table** (csv file)?\n",
        "\n",
        "10. How to **plot a graph**?"
      ],
      "metadata": {
        "id": "20-XvVv1Ufl1"
      }
    },
    {
      "cell_type": "code",
      "source": [
        "# comments\n",
        "\n",
        "x = 1\n",
        "print(x)\n",
        "\n",
        "y = 1.1\n",
        "\n",
        "z = \"a\"\n",
        "\n",
        "w = \"aasdasdsa\""
      ],
      "metadata": {
        "id": "1rLVs6G3XKqU",
        "colab": {
          "base_uri": "https://localhost:8080/"
        },
        "outputId": "165439a3-6e5b-47bc-9d67-6043ce2db101"
      },
      "execution_count": 7,
      "outputs": [
        {
          "output_type": "stream",
          "name": "stdout",
          "text": [
            "1\n"
          ]
        }
      ]
    },
    {
      "cell_type": "code",
      "source": [],
      "metadata": {
        "id": "-82gzhgpWO1P"
      },
      "execution_count": 12,
      "outputs": []
    }
  ]
}